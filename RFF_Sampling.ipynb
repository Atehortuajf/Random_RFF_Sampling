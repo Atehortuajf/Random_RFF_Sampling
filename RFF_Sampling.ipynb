{
  "cells": [
    {
      "cell_type": "code",
      "execution_count": 1,
      "id": "f488046a-b12f-4be1-8d0b-d8634b8d01ec",
      "metadata": {
        "colab": {
          "base_uri": "https://localhost:8080/"
        },
        "id": "f488046a-b12f-4be1-8d0b-d8634b8d01ec",
        "outputId": "412bd837-e71a-48fb-b091-95ffac5d683e"
      },
      "outputs": [
        {
          "output_type": "stream",
          "name": "stdout",
          "text": [
            "Looking in indexes: https://pypi.org/simple, https://us-python.pkg.dev/colab-wheels/public/simple/\n",
            "Requirement already satisfied: torchvision in /usr/local/lib/python3.8/dist-packages (0.14.0+cu116)\n",
            "Requirement already satisfied: pillow!=8.3.*,>=5.3.0 in /usr/local/lib/python3.8/dist-packages (from torchvision) (7.1.2)\n",
            "Requirement already satisfied: requests in /usr/local/lib/python3.8/dist-packages (from torchvision) (2.23.0)\n",
            "Requirement already satisfied: torch==1.13.0 in /usr/local/lib/python3.8/dist-packages (from torchvision) (1.13.0+cu116)\n",
            "Requirement already satisfied: numpy in /usr/local/lib/python3.8/dist-packages (from torchvision) (1.21.6)\n",
            "Requirement already satisfied: typing-extensions in /usr/local/lib/python3.8/dist-packages (from torchvision) (4.4.0)\n",
            "Requirement already satisfied: chardet<4,>=3.0.2 in /usr/local/lib/python3.8/dist-packages (from requests->torchvision) (3.0.4)\n",
            "Requirement already satisfied: idna<3,>=2.5 in /usr/local/lib/python3.8/dist-packages (from requests->torchvision) (2.10)\n",
            "Requirement already satisfied: urllib3!=1.25.0,!=1.25.1,<1.26,>=1.21.1 in /usr/local/lib/python3.8/dist-packages (from requests->torchvision) (1.24.3)\n",
            "Requirement already satisfied: certifi>=2017.4.17 in /usr/local/lib/python3.8/dist-packages (from requests->torchvision) (2022.12.7)\n"
          ]
        }
      ],
      "source": [
        "!pip install torchvision"
      ]
    },
    {
      "cell_type": "code",
      "execution_count": 8,
      "id": "13156097-d105-4aaa-bda2-3a00edc1243d",
      "metadata": {
        "id": "13156097-d105-4aaa-bda2-3a00edc1243d"
      },
      "outputs": [],
      "source": [
        "import os, imageio\n",
        "import numpy as np\n",
        "import torch\n",
        "import torchvision\n",
        "import torch.nn.functional as F\n",
        "from torch.utils.data import DataLoader\n",
        "from torch.utils.data.sampler import SubsetRandomSampler\n",
        "from torch.utils.data.dataset import TensorDataset\n",
        "from torch import nn, optim\n",
        "from itertools import chain\n",
        "import matplotlib.pyplot as plt\n",
        "import random"
      ]
    },
    {
      "cell_type": "code",
      "execution_count": 3,
      "id": "c78d11ec-2412-45be-b28d-93858d03ffab",
      "metadata": {
        "colab": {
          "base_uri": "https://localhost:8080/"
        },
        "id": "c78d11ec-2412-45be-b28d-93858d03ffab",
        "outputId": "3a4d71e9-5960-4371-d316-b6fbe0183f83"
      },
      "outputs": [
        {
          "output_type": "stream",
          "name": "stdout",
          "text": [
            "Using cuda device\n"
          ]
        }
      ],
      "source": [
        "device = \"cuda\" if torch.cuda.is_available() else \"cpu\"\n",
        "#device = \"cpu\"\n",
        "print(f\"Using {device} device\")"
      ]
    },
    {
      "cell_type": "code",
      "execution_count": 9,
      "id": "5fe8e908-9713-43bb-bf80-0a07024bdf9f",
      "metadata": {
        "id": "5fe8e908-9713-43bb-bf80-0a07024bdf9f"
      },
      "outputs": [],
      "source": [
        "# Make dataset, taken from https://github.com/jmclong/random-fourier-features-pytorch\n",
        "image = torchvision.io.read_image('cat.jpg').float()\n",
        "_, H, W = image.shape\n",
        "def linspace_func(nx): return torch.linspace(0.0, 1.0, nx)\n",
        "linspaces = map(linspace_func, (H, W))\n",
        "coordinates = torch.meshgrid(*linspaces, indexing='ij')\n",
        "coords = torch.stack(coordinates, dim=-1)\n",
        "image = image.permute((1, 2, 0))\n",
        "image /= 255.0\n",
        "coords = coords.flatten(0, -2)\n",
        "image = image.flatten(0, -2)\n",
        "dataset = TensorDataset(coords, image)\n",
        "\n",
        "# Creating data indices for training and validation splits:\n",
        "dataset_size = len(dataset)\n",
        "indices = list(range(dataset_size))\n",
        "np.random.seed(42)\n",
        "np.random.shuffle(indices)\n",
        "train_indices = indices\n",
        "\n",
        "# Creating PT data samplers and loaders:\n",
        "train_sampler = SubsetRandomSampler(train_indices)\n",
        "\n",
        "train_dataloader = DataLoader(dataset, batch_size=256, sampler=train_sampler)\n",
        "expand_dataloader = DataLoader(dataset, batch_size=1024, sampler=train_sampler)"
      ]
    },
    {
      "cell_type": "code",
      "execution_count": 5,
      "id": "03487a23-9a50-4850-8282-9a3fefc3e334",
      "metadata": {
        "id": "03487a23-9a50-4850-8282-9a3fefc3e334"
      },
      "outputs": [],
      "source": [
        "# Fourier transform receive layer\n",
        "class TransitionLayer(nn.Module):\n",
        "    def __init__(self, size):\n",
        "        super(TransitionLayer, self).__init__()\n",
        "        self.flatten = nn.Flatten()\n",
        "        self.layers = nn.Sequential(nn.Linear(size,64))\n",
        "\n",
        "    def forward(self, x):\n",
        "        return self.layers(x)\n",
        "    \n",
        "# Fourier Space MLP fit\n",
        "class NeuralNetwork(nn.Module):\n",
        "    def  __init__(self):\n",
        "        super(NeuralNetwork, self).__init__()\n",
        "        self.flatten = nn.Flatten()\n",
        "        self.layers = nn.Sequential(\n",
        "            #nn.Linear(10, 64),\n",
        "            nn.Tanh(),\n",
        "            nn.Linear(64, 64),\n",
        "            nn.Tanh(),\n",
        "            nn.Linear(64, 3)\n",
        "        )\n",
        "\n",
        "    def forward(self, x):\n",
        "        return self.layers(x)\n",
        "\n",
        "# Gaussian Encoding Layer\n",
        "class GaussianEncoding(nn.Module):\n",
        "  def __init__(self, sigma, input_size, feature_num):\n",
        "    super(GaussianEncoding, self).__init__()\n",
        "    self.b = torch.randn((feature_num, input_size)) * sigma\n",
        "    self.b = self.b.to(device)\n",
        "\n",
        "  def forward(self, x):\n",
        "    return torch.sin(2 * np.pi * x @ self.b.T)"
      ]
    },
    {
      "cell_type": "code",
      "execution_count": 131,
      "id": "f2531da1-5d8a-4113-8c7b-ed7f9de6a66e",
      "metadata": {
        "id": "f2531da1-5d8a-4113-8c7b-ed7f9de6a66e"
      },
      "outputs": [],
      "source": [
        "# Samples many rffs and incorporates the one with the best dLoss wrt to weights\n",
        "def expandModel(feature_num, model, transition_layer, encoding, dummies):\n",
        "    b, (X, y) = next(enumerate(expand_dataloader))\n",
        "    X = X.to(device)\n",
        "    y = y.to(device)\n",
        "    # Pad the transition layer\n",
        "    transition_sd = transition_layer.state_dict()\n",
        "    expanded_transition = TransitionLayer(feature_num).to(device)\n",
        "    expanded_transition.load_state_dict(transition_sd)\n",
        "    trans_weights = transition_layer.layers[0].weight\n",
        "    pad_weights = torch.nn.Parameter(F.pad(input=trans_weights, pad=(0,1,0,0), mode='constant', value=0))\n",
        "    expanded_transition.layers[0].weight = pad_weights\n",
        "\n",
        "    initDummyLayers(encoding, dummies)\n",
        "    z = transition_layer(encoding(X))\n",
        "    preds = model(z)\n",
        "    gz = sum(preds)\n",
        "    #print(z.shape)\n",
        "    #print(gz.shape)\n",
        "    dgdz = torch.zeros([3,z.shape[0],z.shape[1]])\n",
        "    for i in range(3):\n",
        "      dgdz_coord = torch.autograd.grad(gz[i], z, retain_graph=True)\n",
        "      dgdz[i,:,:] = dgdz_coord[0]\n",
        "    #print('dgdz')\n",
        "    #print(dgdz.shape)\n",
        "    dgdz = dgdz.to(device)\n",
        "    best_dldw = 0\n",
        "    for dummy in dummies:\n",
        "      a = dummy.b[-1]\n",
        "      ax = torch.matmul(a, torch.permute(X, (1,0)))\n",
        "      pred_minus_y = torch.add(preds,y,alpha=-1)\n",
        "      pred_minus_y = torch.reshape(pred_minus_y,(pred_minus_y.shape[0],pred_minus_y.shape[1],1))\n",
        "      pred_minus_y = torch.permute(pred_minus_y, (1,0,2))\n",
        "      #print('p - y')\n",
        "      #print(pred_minus_y.shape)\n",
        "      two_terms = torch.mul(pred_minus_y, dgdz)\n",
        "      #print('ax')\n",
        "      #print(ax.shape)\n",
        "      #print (two_terms.shape)\n",
        "      dLdw = torch.mul(torch.permute(two_terms,(0,2,1)), torch.sin(ax))\n",
        "      #print('dLdw')\n",
        "      #print(dLdw.shape)\n",
        "      dLdw = torch.sum(dLdw, dim=(0,2))\n",
        "      #print('dLdw summed over dimensions')\n",
        "      #print(dLdw)\n",
        "      norm = torch.linalg.vector_norm(dLdw)\n",
        "      #print('norm')\n",
        "      #print(norm)\n",
        "      if norm > best_dldw:\n",
        "        best_dldw = norm\n",
        "        best_dummy = dummy\n",
        "    print('new feature with dldw: ' + str(best_dldw))\n",
        "    return best_dummy, expanded_transition\n",
        "\n",
        "def initDummyLayers(encoding, dummies):\n",
        "  b_padded = torch.nn.Parameter(F.pad(input=encoding.b, pad=(0,0,0,1), mode='constant', value=0))\n",
        "  sd = encoding.state_dict()\n",
        "  for dummy in dummies:\n",
        "    dummy.load_state_dict(sd, strict=False)\n",
        "    dummy.b = b_padded\n",
        "    dummy.b.data[-1] = torch.randn((1,2))\n",
        "\n",
        "def checkStall(losses):\n",
        "    n = 300\n",
        "    iter = len(losses) - 1\n",
        "    if iter < n: return False\n",
        "    time = np.array([i for i in range(n)])\n",
        "    loss_array = np.array(losses[-(n+1):-1])\n",
        "    p = np.polyfit(time, loss_array, 1)\n",
        "    return p[0] > 0"
      ]
    },
    {
      "cell_type": "code",
      "execution_count": 132,
      "id": "b1de84a7-55fd-4898-a40d-b14d1a6a0a88",
      "metadata": {
        "colab": {
          "base_uri": "https://localhost:8080/",
          "height": 689
        },
        "id": "b1de84a7-55fd-4898-a40d-b14d1a6a0a88",
        "outputId": "406c34b9-f7e2-45a4-beeb-adca38fc9f48"
      },
      "outputs": [
        {
          "output_type": "stream",
          "name": "stdout",
          "text": [
            "new feature with dldw: tensor(1.8129, device='cuda:0', grad_fn=<LinalgVectorNormBackward0>)\n",
            "loss: 0.044721625931560996\n",
            "new feature with dldw: tensor(1.5020, device='cuda:0', grad_fn=<LinalgVectorNormBackward0>)\n",
            "new feature with dldw: tensor(6.5563, device='cuda:0', grad_fn=<LinalgVectorNormBackward0>)\n",
            "loss: 0.0353593491576612\n",
            "loss: 0.027405816819518803\n",
            "loss: 0.02118826949968934\n",
            "loss: 0.017031769370660185\n",
            "new feature with dldw: tensor(3.9199, device='cuda:0', grad_fn=<LinalgVectorNormBackward0>)\n",
            "loss: 0.014531509755179285\n",
            "new feature with dldw: tensor(3.2978, device='cuda:0', grad_fn=<LinalgVectorNormBackward0>)\n",
            "loss: 0.01089406040031463\n",
            "loss: 0.008677089065313339\n",
            "new feature with dldw: tensor(12.0910, device='cuda:0', grad_fn=<LinalgVectorNormBackward0>)\n",
            "loss: 0.0068910382455214855\n",
            "loss: 0.005731681257020682\n"
          ]
        },
        {
          "output_type": "error",
          "ename": "KeyboardInterrupt",
          "evalue": "ignored",
          "traceback": [
            "\u001b[0;31m---------------------------------------------------------------------------\u001b[0m",
            "\u001b[0;31mKeyboardInterrupt\u001b[0m                         Traceback (most recent call last)",
            "\u001b[0;32m<ipython-input-132-423739c47442>\u001b[0m in \u001b[0;36m<module>\u001b[0;34m\u001b[0m\n\u001b[1;32m     16\u001b[0m \u001b[0;34m\u001b[0m\u001b[0m\n\u001b[1;32m     17\u001b[0m \u001b[0;32mfor\u001b[0m \u001b[0mepoch\u001b[0m \u001b[0;32min\u001b[0m \u001b[0mrange\u001b[0m\u001b[0;34m(\u001b[0m\u001b[0mepochs\u001b[0m\u001b[0;34m)\u001b[0m\u001b[0;34m:\u001b[0m\u001b[0;34m\u001b[0m\u001b[0;34m\u001b[0m\u001b[0m\n\u001b[0;32m---> 18\u001b[0;31m   \u001b[0;32mfor\u001b[0m \u001b[0mbatch_index\u001b[0m\u001b[0;34m,\u001b[0m \u001b[0;34m(\u001b[0m\u001b[0mX\u001b[0m\u001b[0;34m,\u001b[0m \u001b[0my\u001b[0m\u001b[0;34m)\u001b[0m \u001b[0;32min\u001b[0m \u001b[0menumerate\u001b[0m\u001b[0;34m(\u001b[0m\u001b[0mtrain_dataloader\u001b[0m\u001b[0;34m)\u001b[0m\u001b[0;34m:\u001b[0m\u001b[0;34m\u001b[0m\u001b[0;34m\u001b[0m\u001b[0m\n\u001b[0m\u001b[1;32m     19\u001b[0m     \u001b[0mX\u001b[0m \u001b[0;34m=\u001b[0m \u001b[0mX\u001b[0m\u001b[0;34m.\u001b[0m\u001b[0mto\u001b[0m\u001b[0;34m(\u001b[0m\u001b[0mdevice\u001b[0m\u001b[0;34m)\u001b[0m\u001b[0;34m\u001b[0m\u001b[0;34m\u001b[0m\u001b[0m\n\u001b[1;32m     20\u001b[0m     \u001b[0my\u001b[0m \u001b[0;34m=\u001b[0m \u001b[0my\u001b[0m\u001b[0;34m.\u001b[0m\u001b[0mto\u001b[0m\u001b[0;34m(\u001b[0m\u001b[0mdevice\u001b[0m\u001b[0;34m)\u001b[0m\u001b[0;34m\u001b[0m\u001b[0;34m\u001b[0m\u001b[0m\n",
            "\u001b[0;32m/usr/local/lib/python3.8/dist-packages/torch/utils/data/dataloader.py\u001b[0m in \u001b[0;36m__next__\u001b[0;34m(self)\u001b[0m\n\u001b[1;32m    626\u001b[0m                 \u001b[0;31m# TODO(https://github.com/pytorch/pytorch/issues/76750)\u001b[0m\u001b[0;34m\u001b[0m\u001b[0;34m\u001b[0m\u001b[0;34m\u001b[0m\u001b[0m\n\u001b[1;32m    627\u001b[0m                 \u001b[0mself\u001b[0m\u001b[0;34m.\u001b[0m\u001b[0m_reset\u001b[0m\u001b[0;34m(\u001b[0m\u001b[0;34m)\u001b[0m  \u001b[0;31m# type: ignore[call-arg]\u001b[0m\u001b[0;34m\u001b[0m\u001b[0;34m\u001b[0m\u001b[0m\n\u001b[0;32m--> 628\u001b[0;31m             \u001b[0mdata\u001b[0m \u001b[0;34m=\u001b[0m \u001b[0mself\u001b[0m\u001b[0;34m.\u001b[0m\u001b[0m_next_data\u001b[0m\u001b[0;34m(\u001b[0m\u001b[0;34m)\u001b[0m\u001b[0;34m\u001b[0m\u001b[0;34m\u001b[0m\u001b[0m\n\u001b[0m\u001b[1;32m    629\u001b[0m             \u001b[0mself\u001b[0m\u001b[0;34m.\u001b[0m\u001b[0m_num_yielded\u001b[0m \u001b[0;34m+=\u001b[0m \u001b[0;36m1\u001b[0m\u001b[0;34m\u001b[0m\u001b[0;34m\u001b[0m\u001b[0m\n\u001b[1;32m    630\u001b[0m             \u001b[0;32mif\u001b[0m \u001b[0mself\u001b[0m\u001b[0;34m.\u001b[0m\u001b[0m_dataset_kind\u001b[0m \u001b[0;34m==\u001b[0m \u001b[0m_DatasetKind\u001b[0m\u001b[0;34m.\u001b[0m\u001b[0mIterable\u001b[0m \u001b[0;32mand\u001b[0m\u001b[0;31m \u001b[0m\u001b[0;31m\\\u001b[0m\u001b[0;34m\u001b[0m\u001b[0;34m\u001b[0m\u001b[0m\n",
            "\u001b[0;32m/usr/local/lib/python3.8/dist-packages/torch/utils/data/dataloader.py\u001b[0m in \u001b[0;36m_next_data\u001b[0;34m(self)\u001b[0m\n\u001b[1;32m    668\u001b[0m \u001b[0;34m\u001b[0m\u001b[0m\n\u001b[1;32m    669\u001b[0m     \u001b[0;32mdef\u001b[0m \u001b[0m_next_data\u001b[0m\u001b[0;34m(\u001b[0m\u001b[0mself\u001b[0m\u001b[0;34m)\u001b[0m\u001b[0;34m:\u001b[0m\u001b[0;34m\u001b[0m\u001b[0;34m\u001b[0m\u001b[0m\n\u001b[0;32m--> 670\u001b[0;31m         \u001b[0mindex\u001b[0m \u001b[0;34m=\u001b[0m \u001b[0mself\u001b[0m\u001b[0;34m.\u001b[0m\u001b[0m_next_index\u001b[0m\u001b[0;34m(\u001b[0m\u001b[0;34m)\u001b[0m  \u001b[0;31m# may raise StopIteration\u001b[0m\u001b[0;34m\u001b[0m\u001b[0;34m\u001b[0m\u001b[0m\n\u001b[0m\u001b[1;32m    671\u001b[0m         \u001b[0mdata\u001b[0m \u001b[0;34m=\u001b[0m \u001b[0mself\u001b[0m\u001b[0;34m.\u001b[0m\u001b[0m_dataset_fetcher\u001b[0m\u001b[0;34m.\u001b[0m\u001b[0mfetch\u001b[0m\u001b[0;34m(\u001b[0m\u001b[0mindex\u001b[0m\u001b[0;34m)\u001b[0m  \u001b[0;31m# may raise StopIteration\u001b[0m\u001b[0;34m\u001b[0m\u001b[0;34m\u001b[0m\u001b[0m\n\u001b[1;32m    672\u001b[0m         \u001b[0;32mif\u001b[0m \u001b[0mself\u001b[0m\u001b[0;34m.\u001b[0m\u001b[0m_pin_memory\u001b[0m\u001b[0;34m:\u001b[0m\u001b[0;34m\u001b[0m\u001b[0;34m\u001b[0m\u001b[0m\n",
            "\u001b[0;32m/usr/local/lib/python3.8/dist-packages/torch/utils/data/dataloader.py\u001b[0m in \u001b[0;36m_next_index\u001b[0;34m(self)\u001b[0m\n\u001b[1;32m    616\u001b[0m \u001b[0;34m\u001b[0m\u001b[0m\n\u001b[1;32m    617\u001b[0m     \u001b[0;32mdef\u001b[0m \u001b[0m_next_index\u001b[0m\u001b[0;34m(\u001b[0m\u001b[0mself\u001b[0m\u001b[0;34m)\u001b[0m\u001b[0;34m:\u001b[0m\u001b[0;34m\u001b[0m\u001b[0;34m\u001b[0m\u001b[0m\n\u001b[0;32m--> 618\u001b[0;31m         \u001b[0;32mreturn\u001b[0m \u001b[0mnext\u001b[0m\u001b[0;34m(\u001b[0m\u001b[0mself\u001b[0m\u001b[0;34m.\u001b[0m\u001b[0m_sampler_iter\u001b[0m\u001b[0;34m)\u001b[0m  \u001b[0;31m# may raise StopIteration\u001b[0m\u001b[0;34m\u001b[0m\u001b[0;34m\u001b[0m\u001b[0m\n\u001b[0m\u001b[1;32m    619\u001b[0m \u001b[0;34m\u001b[0m\u001b[0m\n\u001b[1;32m    620\u001b[0m     \u001b[0;32mdef\u001b[0m \u001b[0m_next_data\u001b[0m\u001b[0;34m(\u001b[0m\u001b[0mself\u001b[0m\u001b[0;34m)\u001b[0m\u001b[0;34m:\u001b[0m\u001b[0;34m\u001b[0m\u001b[0;34m\u001b[0m\u001b[0m\n",
            "\u001b[0;32m/usr/local/lib/python3.8/dist-packages/torch/utils/data/sampler.py\u001b[0m in \u001b[0;36m__iter__\u001b[0;34m(self)\u001b[0m\n\u001b[1;32m    252\u001b[0m             \u001b[0mbatch\u001b[0m \u001b[0;34m=\u001b[0m \u001b[0;34m[\u001b[0m\u001b[0;36m0\u001b[0m\u001b[0;34m]\u001b[0m \u001b[0;34m*\u001b[0m \u001b[0mself\u001b[0m\u001b[0;34m.\u001b[0m\u001b[0mbatch_size\u001b[0m\u001b[0;34m\u001b[0m\u001b[0;34m\u001b[0m\u001b[0m\n\u001b[1;32m    253\u001b[0m             \u001b[0midx_in_batch\u001b[0m \u001b[0;34m=\u001b[0m \u001b[0;36m0\u001b[0m\u001b[0;34m\u001b[0m\u001b[0;34m\u001b[0m\u001b[0m\n\u001b[0;32m--> 254\u001b[0;31m             \u001b[0;32mfor\u001b[0m \u001b[0midx\u001b[0m \u001b[0;32min\u001b[0m \u001b[0mself\u001b[0m\u001b[0;34m.\u001b[0m\u001b[0msampler\u001b[0m\u001b[0;34m:\u001b[0m\u001b[0;34m\u001b[0m\u001b[0;34m\u001b[0m\u001b[0m\n\u001b[0m\u001b[1;32m    255\u001b[0m                 \u001b[0mbatch\u001b[0m\u001b[0;34m[\u001b[0m\u001b[0midx_in_batch\u001b[0m\u001b[0;34m]\u001b[0m \u001b[0;34m=\u001b[0m \u001b[0midx\u001b[0m\u001b[0;34m\u001b[0m\u001b[0;34m\u001b[0m\u001b[0m\n\u001b[1;32m    256\u001b[0m                 \u001b[0midx_in_batch\u001b[0m \u001b[0;34m+=\u001b[0m \u001b[0;36m1\u001b[0m\u001b[0;34m\u001b[0m\u001b[0;34m\u001b[0m\u001b[0m\n",
            "\u001b[0;32m/usr/local/lib/python3.8/dist-packages/torch/utils/data/sampler.py\u001b[0m in \u001b[0;36m__iter__\u001b[0;34m(self)\u001b[0m\n\u001b[1;32m    151\u001b[0m \u001b[0;34m\u001b[0m\u001b[0m\n\u001b[1;32m    152\u001b[0m     \u001b[0;32mdef\u001b[0m \u001b[0m__iter__\u001b[0m\u001b[0;34m(\u001b[0m\u001b[0mself\u001b[0m\u001b[0;34m)\u001b[0m \u001b[0;34m->\u001b[0m \u001b[0mIterator\u001b[0m\u001b[0;34m[\u001b[0m\u001b[0mint\u001b[0m\u001b[0;34m]\u001b[0m\u001b[0;34m:\u001b[0m\u001b[0;34m\u001b[0m\u001b[0;34m\u001b[0m\u001b[0m\n\u001b[0;32m--> 153\u001b[0;31m         \u001b[0;32mfor\u001b[0m \u001b[0mi\u001b[0m \u001b[0;32min\u001b[0m \u001b[0mtorch\u001b[0m\u001b[0;34m.\u001b[0m\u001b[0mrandperm\u001b[0m\u001b[0;34m(\u001b[0m\u001b[0mlen\u001b[0m\u001b[0;34m(\u001b[0m\u001b[0mself\u001b[0m\u001b[0;34m.\u001b[0m\u001b[0mindices\u001b[0m\u001b[0;34m)\u001b[0m\u001b[0;34m,\u001b[0m \u001b[0mgenerator\u001b[0m\u001b[0;34m=\u001b[0m\u001b[0mself\u001b[0m\u001b[0;34m.\u001b[0m\u001b[0mgenerator\u001b[0m\u001b[0;34m)\u001b[0m\u001b[0;34m:\u001b[0m\u001b[0;34m\u001b[0m\u001b[0;34m\u001b[0m\u001b[0m\n\u001b[0m\u001b[1;32m    154\u001b[0m             \u001b[0;32myield\u001b[0m \u001b[0mself\u001b[0m\u001b[0;34m.\u001b[0m\u001b[0mindices\u001b[0m\u001b[0;34m[\u001b[0m\u001b[0mi\u001b[0m\u001b[0;34m]\u001b[0m\u001b[0;34m\u001b[0m\u001b[0;34m\u001b[0m\u001b[0m\n\u001b[1;32m    155\u001b[0m \u001b[0;34m\u001b[0m\u001b[0m\n",
            "\u001b[0;32m/usr/local/lib/python3.8/dist-packages/torch/_tensor.py\u001b[0m in \u001b[0;36m__iter__\u001b[0;34m(self)\u001b[0m\n\u001b[1;32m    923\u001b[0m                 \u001b[0mstacklevel\u001b[0m\u001b[0;34m=\u001b[0m\u001b[0;36m2\u001b[0m\u001b[0;34m,\u001b[0m\u001b[0;34m\u001b[0m\u001b[0;34m\u001b[0m\u001b[0m\n\u001b[1;32m    924\u001b[0m             )\n\u001b[0;32m--> 925\u001b[0;31m         \u001b[0;32mreturn\u001b[0m \u001b[0miter\u001b[0m\u001b[0;34m(\u001b[0m\u001b[0mself\u001b[0m\u001b[0;34m.\u001b[0m\u001b[0munbind\u001b[0m\u001b[0;34m(\u001b[0m\u001b[0;36m0\u001b[0m\u001b[0;34m)\u001b[0m\u001b[0;34m)\u001b[0m\u001b[0;34m\u001b[0m\u001b[0;34m\u001b[0m\u001b[0m\n\u001b[0m\u001b[1;32m    926\u001b[0m \u001b[0;34m\u001b[0m\u001b[0m\n\u001b[1;32m    927\u001b[0m     \u001b[0;32mdef\u001b[0m \u001b[0m__hash__\u001b[0m\u001b[0;34m(\u001b[0m\u001b[0mself\u001b[0m\u001b[0;34m)\u001b[0m\u001b[0;34m:\u001b[0m\u001b[0;34m\u001b[0m\u001b[0;34m\u001b[0m\u001b[0m\n",
            "\u001b[0;31mKeyboardInterrupt\u001b[0m: "
          ]
        }
      ],
      "source": [
        "#Training code\n",
        "feature_num = 2\n",
        "transition_layer = TransitionLayer(feature_num)\n",
        "transition_layer = transition_layer.to(device)\n",
        "model = NeuralNetwork()\n",
        "model = model.to(device)\n",
        "\n",
        "loss_fn = nn.MSELoss()\n",
        "params = chain(transition_layer.parameters(), model.parameters())\n",
        "optimizer = optim.Adam(params, lr=1e-4) \n",
        "encoding = GaussianEncoding(1., 2, feature_num).to(device)\n",
        "epochs = 5\n",
        "\n",
        "losses = []\n",
        "stalls = []\n",
        "batch_losses = []\n",
        "\n",
        "for epoch in range(epochs):\n",
        "  for batch_index, (X, y) in enumerate(train_dataloader):\n",
        "    X = X.to(device)\n",
        "    y = y.to(device)\n",
        "    Xp = encoding(X)\n",
        "    pred = model(transition_layer(Xp))\n",
        "    loss = loss_fn(pred, y)\n",
        "    losses.append(loss.item())\n",
        "    if (len(losses) + 1) % 1000 == 0:\n",
        "      print(\"loss: \" + str(np.mean(losses[-1:-101:-1])))\n",
        "    #if False:\n",
        "    if((len(losses) + 1) % 100 == 0 and checkStall(losses)):\n",
        "      stalls.append(len(losses))\n",
        "      dummies = [GaussianEncoding(1., 2, feature_num).to(device) for i in range(100)]\n",
        "      encoding, transition_layer = expandModel(feature_num, model, transition_layer, encoding, dummies)\n",
        "      params = chain(transition_layer.parameters(), model.parameters())\n",
        "      optimizer = optim.Adam(params, lr=1e-4)\n",
        "      feature_num += 1\n",
        "    optimizer.zero_grad(set_to_none=True)\n",
        "    loss.backward()\n",
        "    optimizer.step()\n",
        "with torch.no_grad():\n",
        "    coords = rff.dataloader.rectangular_coordinates((512, 512)).to(device)\n",
        "    coords = encoding(coords)\n",
        "    image = model(transition_layer(coords))\n",
        "    plt.imshow(image.cpu().numpy())\n",
        "    plt.show()"
      ]
    },
    {
      "cell_type": "code",
      "execution_count": 128,
      "id": "ece63485-29f1-4d37-a185-5963f1a92c2e",
      "metadata": {
        "colab": {
          "base_uri": "https://localhost:8080/",
          "height": 307
        },
        "id": "ece63485-29f1-4d37-a185-5963f1a92c2e",
        "outputId": "514dcc56-89fb-4f1f-93fa-2b9980c40554"
      },
      "outputs": [
        {
          "output_type": "stream",
          "name": "stderr",
          "text": [
            "WARNING:matplotlib.image:Clipping input data to the valid range for imshow with RGB data ([0..1] for floats or [0..255] for integers).\n"
          ]
        },
        {
          "output_type": "display_data",
          "data": {
            "text/plain": [
              "<Figure size 432x288 with 1 Axes>"
            ],
            "image/png": "[encoded data removed]"
          },
          "metadata": {
            "needs_background": "light"
          }
        }
      ],
      "source": [
        "#Visualize model\n",
        "with torch.no_grad():\n",
        "    coords = rff.dataloader.rectangular_coordinates((512, 512)).to(device)\n",
        "    image = model(transition_layer(encoding(coords)))\n",
        "    plt.imshow(image.cpu().numpy())\n",
        "    plt.show()"
      ]
    },
    {
      "cell_type": "code",
      "execution_count": 141,
      "id": "a5cc3edf-c2d3-445e-bf63-ddef1baa36ba",
      "metadata": {
        "colab": {
          "base_uri": "https://localhost:8080/",
          "height": 269
        },
        "id": "a5cc3edf-c2d3-445e-bf63-ddef1baa36ba",
        "outputId": "e8d21322-4285-4d7c-9ed5-64c91bbba637"
      },
      "outputs": [
        {
          "output_type": "display_data",
          "data": {
            "text/plain": [
              "<Figure size 432x288 with 1 Axes>"
            ],
            "image/png": "[encoded data removed]"
          },
          "metadata": {
            "needs_background": "light"
          }
        }
      ],
      "source": [
        "#Visualize loss over iteration and stalls\n",
        "plt.plot(losses)\n",
        "for stall in stalls:\n",
        "  plt.axvline(x=stall, color = 'k')\n",
        "plt.axis([0,8000,0,0.2])\n",
        "plt.show()"
      ]
    }
  ],
  "metadata": {
    "kernelspec": {
      "display_name": "Python 3 (ipykernel)",
      "language": "python",
      "name": "python3"
    },
    "language_info": {
      "codemirror_mode": {
        "name": "ipython",
        "version": 3
      },
      "file_extension": ".py",
      "mimetype": "text/x-python",
      "name": "python",
      "nbconvert_exporter": "python",
      "pygments_lexer": "ipython3",
      "version": "3.9.7"
    },
    "colab": {
      "provenance": []
    },
    "accelerator": "GPU",
    "gpuClass": "standard"
  },
  "nbformat": 4,
  "nbformat_minor": 5
}